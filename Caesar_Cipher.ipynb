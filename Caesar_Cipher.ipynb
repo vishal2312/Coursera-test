{
  "nbformat": 4,
  "nbformat_minor": 0,
  "metadata": {
    "colab": {
      "name": "Caesar Cipher.ipynb",
      "provenance": [],
      "authorship_tag": "ABX9TyOqvMJ6p3phatR69b+1SV1E",
      "include_colab_link": true
    },
    "kernelspec": {
      "name": "python3",
      "display_name": "Python 3"
    }
  },
  "cells": [
    {
      "cell_type": "markdown",
      "metadata": {
        "id": "view-in-github",
        "colab_type": "text"
      },
      "source": [
        "<a href=\"https://colab.research.google.com/github/vishal2312/Coursera-test/blob/master/Caesar_Cipher.ipynb\" target=\"_parent\"><img src=\"https://colab.research.google.com/assets/colab-badge.svg\" alt=\"Open In Colab\"/></a>"
      ]
    },
    {
      "cell_type": "code",
      "metadata": {
        "id": "5U0SQlH9lPPx",
        "colab_type": "code",
        "colab": {
          "base_uri": "https://localhost:8080/",
          "height": 85
        },
        "outputId": "436c85ea-db78-4092-84ef-0b42fe5abc25"
      },
      "source": [
        "text = input(\"Enter string:\")\n",
        "key = int(input(\"Enter a key:\"))\n",
        "\n",
        "\n",
        "\n",
        "def cipher_text(string , shift):\n",
        "    \n",
        "    cipher = \"\"\n",
        "    for char in string:\n",
        "        if char == \"\":\n",
        "            cipher = cipher + char\n",
        "        elif char.isupper():\n",
        "            cipher = cipher + chr((ord(char) + shift - 65) % 26 + 65)\n",
        "        else:\n",
        "            cipher = cipher + chr((ord(char) + shift - 97) % 26 + 65)\n",
        "            \n",
        "    return cipher\n",
        "\n",
        "print(\"Plain text:\",text)\n",
        "print(\"Cipher text:\",cipher_text(text,key))\n",
        "\n"
      ],
      "execution_count": null,
      "outputs": [
        {
          "output_type": "stream",
          "text": [
            "Enter string:abcd\n",
            "Enter a key:3\n",
            "Plain text: abcd\n",
            "Cipher text: DEFG\n"
          ],
          "name": "stdout"
        }
      ]
    },
    {
      "cell_type": "markdown",
      "metadata": {
        "id": "A0fgsMOEowGX",
        "colab_type": "text"
      },
      "source": [
        "# New Section"
      ]
    },
    {
      "cell_type": "code",
      "metadata": {
        "id": "Mnqdb5qklgzB",
        "colab_type": "code",
        "colab": {}
      },
      "source": [
        ""
      ],
      "execution_count": null,
      "outputs": []
    }
  ]
}